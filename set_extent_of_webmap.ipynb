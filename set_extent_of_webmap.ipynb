{
 "cells": [
  {
   "cell_type": "code",
   "execution_count": 1,
   "metadata": {},
   "outputs": [],
   "source": [
    "import getpass\n",
    "\n",
    "from arcgis.mapping import WebMap\n",
    "from arcgis.gis import GIS\n",
    "from IPython.display import display"
   ]
  },
  {
   "cell_type": "code",
   "execution_count": 2,
   "metadata": {},
   "outputs": [
    {
     "name": "stdout",
     "output_type": "stream",
     "text": [
      "Please provide username...TPCMAdmin\n",
      "Please provide password...\n",
      "········\n",
      "Logging in user TPCMAdmin...\n",
      "Success..\n"
     ]
    }
   ],
   "source": [
    "username = input(\"Please provide username...\")\n",
    "print(\"Please provide password...\")\n",
    "password = getpass.getpass()\n",
    "print(\"Logging in user {}...\".format(username))\n",
    "gis = GIS(\"https://usfs.maps.arcgis.com\", username, password)\n",
    "print(\"Success..\")"
   ]
  },
  {
   "cell_type": "code",
   "execution_count": 3,
   "metadata": {},
   "outputs": [
    {
     "data": {
      "text/plain": [
       "[{'username': 'TPCMAdmin',\n",
       "  'id': '134268ae3607465e94b65f49d35ca48b',\n",
       "  'title': '2019 Test Clone Items',\n",
       "  'created': 1566499981000},\n",
       " {'username': 'TPCMAdmin',\n",
       "  'id': 'e54d9767ec4b4c6686187862bc299253',\n",
       "  'title': 'BOR Twin Buttes Travel Management Plan',\n",
       "  'created': 1534876784000},\n",
       " {'username': 'TPCMAdmin',\n",
       "  'id': '008733b140a541e6af3d2578848965f0',\n",
       "  'title': 'DEPRICATED_TPCM CrowdSource Reporter Solution Template',\n",
       "  'created': 1509046169000},\n",
       " {'username': 'TPCMAdmin',\n",
       "  'id': 'c050650fc0c5402a83f07e05a2e62cab',\n",
       "  'title': 'R09 TEC-19-0909-002 RSA CSP Superior NF',\n",
       "  'created': 1568746291000},\n",
       " {'username': 'TPCMAdmin',\n",
       "  'id': '974afaddd7e04b10bff1b982fbc4373b',\n",
       "  'title': 'R2 R2 REC-U301629 Arapaho-Roosevelt NF LeftHand Motorized Trails - Story Map',\n",
       "  'created': 1561143333000},\n",
       " {'username': 'TPCMAdmin',\n",
       "  'id': 'f4c3f34934df41509e9b20426ab313b6',\n",
       "  'title': 'R2 REC-U301629 Arapaho-Roosevelt NF LeftHand Motorized Trails',\n",
       "  'created': 1555451494000},\n",
       " {'username': 'TPCMAdmin',\n",
       "  'id': '1f93e73d2e6645a8b17d2c9ac0ab1c83',\n",
       "  'title': 'R3 REC-19-WRHV-001-R3 Arizona',\n",
       "  'created': 1556920125000},\n",
       " {'username': 'TPCMAdmin',\n",
       "  'id': '8667a95a5b104656aeadbae584bff9f8',\n",
       "  'title': 'R3 REC-19-WRHV-001-R3 Arizona Archive',\n",
       "  'created': 1562884993000},\n",
       " {'username': 'TPCMAdmin',\n",
       "  'id': '2311d8b2acf749899f3c9f212daeaa8a',\n",
       "  'title': 'R3 REC-19-WRHV-001-R3 NM Fee Proposal Tool',\n",
       "  'created': 1554491529000},\n",
       " {'username': 'TPCMAdmin',\n",
       "  'id': 'dc8ab96abb9843cf856911ec9b117709',\n",
       "  'title': 'R3 REC-19-WRHV-001-R3 NM Fee Proposal Tool Archive',\n",
       "  'created': 1565377716000},\n",
       " {'username': 'TPCMAdmin',\n",
       "  'id': '6128c30bf6ba4245b553ca197a937e00',\n",
       "  'title': 'R3 Tonto NF TMP SEIS',\n",
       "  'created': 1501088303000},\n",
       " {'username': 'TPCMAdmin',\n",
       "  'id': 'ae46c99a92614d5eb9545c1a02d7ef7b',\n",
       "  'title': 'R8 NFS in Texas WSR Eligibility Study',\n",
       "  'created': 1494360184000},\n",
       " {'username': 'TPCMAdmin',\n",
       "  'id': '9368a41189da4e91926191811660c946',\n",
       "  'title': 'R9 GMFL Somerset IR Story Map',\n",
       "  'created': 1566506123000},\n",
       " {'username': 'TPCMAdmin',\n",
       "  'id': 'd13a2de75abf415296e43d5626275cb5',\n",
       "  'title': 'R9 TEC-19-0909-001 Tofte Landscape Project',\n",
       "  'created': 1555027187000},\n",
       " {'username': 'TPCMAdmin',\n",
       "  'id': 'a19b6fd78ad04c54b0077b84435d432a',\n",
       "  'title': 'R9 TEC-19-0909-001 Tofte Landscape Project Story Map',\n",
       "  'created': 1556300087000},\n",
       " {'username': 'TPCMAdmin',\n",
       "  'id': '3460514604254267903b6b876e4bec31',\n",
       "  'title': 'R9 TEC-19-0909-001 Tofte Landscape Project TPCM Components',\n",
       "  'created': 1554336402000},\n",
       " {'username': 'TPCMAdmin',\n",
       "  'id': 'd270014b41b44e369ad42266e566f5cc',\n",
       "  'title': 'Survey-CSP Test',\n",
       "  'created': 1561576061000},\n",
       " {'username': 'TPCMAdmin',\n",
       "  'id': '064074d6be0c4e9c87ed42cdba46b887',\n",
       "  'title': 'TPCM Base Content',\n",
       "  'created': 1475616931000},\n",
       " {'username': 'TPCMAdmin',\n",
       "  'id': 'd5fe74e85bb0497389e6e6468becce11',\n",
       "  'title': 'TPCM Crowdsoruce Polling Solution Template',\n",
       "  'created': 1516912752000},\n",
       " {'username': 'TPCMAdmin',\n",
       "  'id': '2ad5e61b9c1f4592a76256713cae982f',\n",
       "  'title': 'TPCM CrowdSource Reporter Solution Template',\n",
       "  'created': 1541711208000},\n",
       " {'username': 'TPCMAdmin',\n",
       "  'id': '95d5d0271f08439c8b31a53914432696',\n",
       "  'title': 'TPCM CSR Pro Solution Template',\n",
       "  'created': 1554221031000},\n",
       " {'username': 'TPCMAdmin',\n",
       "  'id': '286e2e1906364051b1e04291ec502fbe',\n",
       "  'title': 'TPCM DEMO 2016',\n",
       "  'created': 1486155274000},\n",
       " {'username': 'TPCMAdmin',\n",
       "  'id': '974d6b6f92724d32809bd5ea8574dc05',\n",
       "  'title': 'TPCM Items',\n",
       "  'created': 1515520348000},\n",
       " {'username': 'TPCMAdmin',\n",
       "  'id': 'c5b710744d4349a29092f9e67df905ef',\n",
       "  'title': 'TPCM Old Project Content',\n",
       "  'created': 1539975078000},\n",
       " {'username': 'TPCMAdmin',\n",
       "  'id': 'ca738400dac34e709bc4ebdb2e1623df',\n",
       "  'title': 'TPCM Projects Comment CSV',\n",
       "  'created': 1516832152000},\n",
       " {'username': 'TPCMAdmin',\n",
       "  'id': 'c146dacc295b4165a69a42fa22ca5b27',\n",
       "  'title': 'TPCM Projects Comment FGDB 20180125',\n",
       "  'created': 1516832158000},\n",
       " {'username': 'TPCMAdmin',\n",
       "  'id': 'f9a06946652444cd8d257e4974c3b5f6',\n",
       "  'title': 'TPCM Projects Comment FGDB 20181120',\n",
       "  'created': 1542748639000},\n",
       " {'username': 'TPCMAdmin',\n",
       "  'id': 'a551cbc8f1be4a0990d7ee991566c0a5',\n",
       "  'title': 'TPCM Projects Comment FGDB 20190709',\n",
       "  'created': 1562717800000},\n",
       " {'username': 'TPCMAdmin',\n",
       "  'id': '3544aa3ea2104e32807b06a7602dc314',\n",
       "  'title': 'TPCM Projects Comment Layers',\n",
       "  'created': 1496942637000},\n",
       " {'username': 'TPCMAdmin',\n",
       "  'id': '50446c5d9694441eb0b921d029bd1c30',\n",
       "  'title': 'TPCM Testing Labels',\n",
       "  'created': 1557776991000},\n",
       " {'username': 'TPCMAdmin',\n",
       "  'id': '893cf4f8b8fe4708b7a549422e393ab4',\n",
       "  'title': 'TPCM_R06_Test Project 070219',\n",
       "  'created': 1562094645000},\n",
       " {'username': 'TPCMAdmin',\n",
       "  'id': '2473c277a39c460588fc1d5d7fd5d70a',\n",
       "  'title': 'TPCM_R06_TPCMAdmin Test 0611',\n",
       "  'created': 1560290165000},\n",
       " {'username': 'TPCMAdmin',\n",
       "  'id': '33b717f17d8a4bd0a44632a32f0f17f4',\n",
       "  'title': '_Archive',\n",
       "  'created': 1475616796000},\n",
       " {'username': 'TPCMAdmin',\n",
       "  'id': 'c11edcb3103c47f8a678fb7594b8a374',\n",
       "  'title': '_Cass',\n",
       "  'created': 1480454457000},\n",
       " {'username': 'TPCMAdmin',\n",
       "  'id': 'e8be4b8071bf45c6870ebf0840e95d34',\n",
       "  'title': '_ESRI EAP',\n",
       "  'created': 1522861124000}]"
      ]
     },
     "execution_count": 3,
     "metadata": {},
     "output_type": "execute_result"
    }
   ],
   "source": [
    "gis.users.me.folders"
   ]
  },
  {
   "cell_type": "code",
   "execution_count": 4,
   "metadata": {},
   "outputs": [
    {
     "data": {
      "text/plain": [
       "[<Item title:\"TPCM - Submit Comment Story Map App\n",
       " \n",
       " \" type:Web Mapping Application owner:TPCMAdmin>,\n",
       " <Item title:\"USFS_R09_SNF_Tofte_District_FS\" type:Service Definition owner:TPCMAdmin>,\n",
       " <Item title:\"R9_SNF_Tofte_Landscape_Project_Boundary\" type:Feature Layer Collection owner:TPCMAdmin>,\n",
       " <Item title:\"USFS_R09_SNF_Tofte_LandscapeEcosystems_FeatureService\" type:Service Definition owner:TPCMAdmin>,\n",
       " <Item title:\"R9 SNF Tofte Landscape Ecosystems\" type:Feature Layer Collection owner:TPCMAdmin>,\n",
       " <Item title:\"R9 Superior NF Tofte Landscape Project - Story Map Main\" type:Web Mapping Application owner:TPCMAdmin>,\n",
       " <Item title:\"R9 Superior NF Tofte Landscape Project - Story Map Introduction Tab\" type:Web Mapping Application owner:TPCMAdmin>,\n",
       " <Item title:\"R9 Superior NF Tofte Landscape Project - Story Map Implementation Tab\" type:Web Mapping Application owner:TPCMAdmin>,\n",
       " <Item title:\"R9 Superior NF Tofte Landscape Project - Story Map Proposed Actions\" type:Web Mapping Application owner:TPCMAdmin>,\n",
       " <Item title:\"R9 Superior NF Tofte Landscape Project - Story Map Purpose and Need Tab\" type:Web Mapping Application owner:TPCMAdmin>,\n",
       " <Item title:\"R9 Superior NF Tofte Landscape Project - Story Map Proposed Actions - Cascade\" type:Web Mapping Application owner:TPCMAdmin>,\n",
       " <Item title:\"R9 SNF TofteLandscapeProject Integrated Fire Loss\" type:Service Definition owner:TPCMAdmin>,\n",
       " <Item title:\"R9_SNF_TofteLandscapeProject_Integrated_FireLoss\" type:Map Image Layer owner:TPCMAdmin>,\n",
       " <Item title:\"R9 SNF Tofte Landscape Project Integrated Benefit from Wildfire\" type:Service Definition owner:TPCMAdmin>,\n",
       " <Item title:\"R9_SNF_Integrated_BenefitFire_TofteLandscape\" type:Map Image Layer owner:TPCMAdmin>,\n",
       " <Item title:\"R9 SNF Tofte Landscape Project P&N - Integrated Wildfire Analysis - Web Map\" type:Web Map owner:TPCMAdmin>,\n",
       " <Item title:\"R9 SNF TofteLandscapeProject Integrated Wildfire Analysis WebMapApp\" type:Web Mapping Application owner:TPCMAdmin>,\n",
       " <Item title:\"R9 Superior NF Tofte Landscape Project - Story Map Introduction Tab (Journal)\" type:Web Mapping Application owner:TPCMAdmin>,\n",
       " <Item title:\"R9_SNF_TofteLandscapeProject_MatureRedPine\" type:Feature Layer Collection owner:TPCMAdmin>,\n",
       " <Item title:\"R9_SNF_TofteLandscapeProject_MatureWhiteMixedPines\" type:Feature Layer Collection owner:TPCMAdmin>,\n",
       " <Item title:\"R9_SNF_TofteLandscapeProject_PatchZones\" type:Feature Layer Collection owner:TPCMAdmin>,\n",
       " <Item title:\"R9_SNF_TofteLandscapeProject_PatchesGT10000ac\" type:Feature Layer Collection owner:TPCMAdmin>,\n",
       " <Item title:\"R9 SNF Tofte Landscape Project P&N - Spatial Zones GT 10000 web map\" type:Web Map owner:TPCMAdmin>,\n",
       " <Item title:\"R9 SNF Tofte Landscape WEB MAP template\" type:Web Map owner:TPCMAdmin>,\n",
       " <Item title:\"R9 SNF Tofte Landscape Project P&N - Red and White Pine web map\" type:Web Map owner:TPCMAdmin>,\n",
       " <Item title:\"R9_SNF_TofteLandscapeProject_Patches_Upland_GT299Ac2018\" type:Feature Layer Collection owner:TPCMAdmin>,\n",
       " <Item title:\"R9_SNF_TofteLandscapeProject_Patches_Upland_GT299Ac2024\" type:Feature Layer Collection owner:TPCMAdmin>,\n",
       " <Item title:\"R9 Superior NF Tofte Landscape Project - Story Map FAQ Tab\" type:Web Mapping Application owner:TPCMAdmin>,\n",
       " <Item title:\"R9 SNF Tofte Landscape Project PA - ELTs web map\" type:Web Map owner:TPCMAdmin>,\n",
       " <Item title:\"R9 SNF Tofte Landscape Project PA - Resilience web map\" type:Web Map owner:TPCMAdmin>,\n",
       " <Item title:\"R9 SNF Tofte Landscape Project PA - Watershed Aquatic web map\" type:Web Map owner:TPCMAdmin>,\n",
       " <Item title:\"R9_SNF_TofteLandscapeProject_StandAge\" type:Feature Layer Collection owner:TPCMAdmin>,\n",
       " <Item title:\"R9_SNF_TofteLandscapeProject_mih_fy24_2024_TofteClip\" type:Feature Layer Collection owner:TPCMAdmin>,\n",
       " <Item title:\"R9_SNF_TofteLandscapeProject_MIH_2018\" type:Feature Layer Collection owner:TPCMAdmin>,\n",
       " <Item title:\"R9 SNF Tofte Landscape Project P&N - Spruce BW web map\" type:Web Map owner:TPCMAdmin>,\n",
       " <Item title:\"R9_SNF_TofteLandscapeProject_2017_SpruceBW\" type:Feature Layer Collection owner:TPCMAdmin>,\n",
       " <Item title:\"R9_SNF_TofteLandscapeProject_2018_SpruceBW\" type:Feature Layer Collection owner:TPCMAdmin>,\n",
       " <Item title:\"R9_SNF_TofteLandscapeProject_SilvAtRisk_InNeedOfResto\" type:Feature Layer Collection owner:TPCMAdmin>,\n",
       " <Item title:\"R9_SNF_TofteLandscapeProject_SilvAtRisk_Mort5to20Yrs\" type:Feature Layer Collection owner:TPCMAdmin>,\n",
       " <Item title:\"R9_SNF_TofteLandscapeProject_SilvAtRiskOldGT80yrs\" type:Feature Layer Collection owner:TPCMAdmin>,\n",
       " <Item title:\"R9 SNF Tofte Landscape Project PA - SilvAtRisk web map\" type:Web Map owner:TPCMAdmin>,\n",
       " <Item title:\"R9 SNF Tofte Landscape Project P&N - Spruce BW web map app\" type:Web Mapping Application owner:TPCMAdmin>,\n",
       " <Item title:\"R9 SNF Tofte Landscape Project - Spruce BW web map app\" type:Code Attachment owner:TPCMAdmin>,\n",
       " <Item title:\"R9 SNF Tofte Landscape Project P&N - Change In Patches 2018 to 2024 web map app\" type:Web Mapping Application owner:TPCMAdmin>,\n",
       " <Item title:\"R9 SNF Tofte Landscape Project - Change In Patches 2018 to 2024 web map\" type:Code Attachment owner:TPCMAdmin>,\n",
       " <Item title:\"R9_SNF_TofteLandscapeProject_AllUpPatch300plus_3Colors\" type:Feature Layer Collection owner:TPCMAdmin>,\n",
       " <Item title:\"R9 SNF Tofte Landscape Project PA - Patches GT 300ac web map\" type:Web Map owner:TPCMAdmin>,\n",
       " <Item title:\"R9_SNF_TofteLandscapeProject_2018LowlandPatches_300AcPlus\" type:Feature Layer Collection owner:TPCMAdmin>,\n",
       " <Item title:\"R9_SNF_TofteLandscapeProject_ManagementAreas\" type:Feature Layer Collection owner:TPCMAdmin>,\n",
       " <Item title:\"R9 SNF Tofte Landscape Project PA - Management Area web map\" type:Web Map owner:TPCMAdmin>,\n",
       " <Item title:\"R9_SNF_TofteLandscapeProject_FP_Inevntory_Roadless\" type:Service Definition owner:TPCMAdmin>,\n",
       " <Item title:\"R9_SNF_TofteLandscapeProject_FP_Inevntory_Roadless\" type:Feature Layer Collection owner:TPCMAdmin>,\n",
       " <Item title:\"R9 SNF Tofte Landscape Project P&N - Jack Pine Black Pine LEs\" type:Web Map owner:TPCMAdmin>,\n",
       " <Item title:\"R9 SNF Tofte Landscape Project P&N - Mesic Birch Aspen Spruce Fir web map\" type:Web Map owner:TPCMAdmin>,\n",
       " <Item title:\"R9 SNF Tofte Landscape Project P&N - Mesic Red and White Pine LE web map\" type:Web Map owner:TPCMAdmin>,\n",
       " <Item title:\"R9 SNF Tofte Landscape Project P&N - Dry Mesic Red and White Pine LE web map\" type:Web Map owner:TPCMAdmin>,\n",
       " <Item title:\"R9 SNF Tofte Landscape Project P&N - Lowland Conifer LE web map\" type:Web Map owner:TPCMAdmin>,\n",
       " <Item title:\"R9 SNF Tofte Landscape Project P&N - Sugar Maple LE web map\" type:Web Map owner:TPCMAdmin>,\n",
       " <Item title:\"R9_SNF_TofteLandscapeProject_ShipsteadNewtonNolan\" type:Feature Layer Collection owner:TPCMAdmin>,\n",
       " <Item title:\"R9 SNF Tofte Landscape Project PA - Recreation Trails Landscape Filter web map\" type:Web Map owner:TPCMAdmin>,\n",
       " <Item title:\"R09snf_Layers_WildernessEntryPoints\" type:Feature Layer Collection owner:TPCMAdmin>,\n",
       " <Item title:\"R9_SNF_TofteLandscapeProject_TroutStreams\" type:Feature Layer Collection owner:TPCMAdmin>,\n",
       " <Item title:\"R9_SNF_TofteLandscapeProject_Lakes\" type:Feature Layer Collection owner:TPCMAdmin>,\n",
       " <Item title:\"R9_SNF_Recreation_Sites_NonWilderness_NRM\" type:Feature Layer Collection owner:TPCMAdmin>,\n",
       " <Item title:\"R9 SNF Tofte Landscape Project P&N - Integrated Wildfire Analysis - Loss - Web Map\" type:Web Map owner:TPCMAdmin>,\n",
       " <Item title:\"R9 SNF Tofte Landscape Project P&N - Integrated Wildfire Analysis - Loss - Web Map App\" type:Web Mapping Application owner:TPCMAdmin>,\n",
       " <Item title:\"R9 SNF Tofte Landscape Project P&N - Integrated Wildfire Analysis - Loss - Web Map App\" type:Code Attachment owner:TPCMAdmin>,\n",
       " <Item title:\"R9 SNF Tofte Landscape Project P&N - Integrated Wildfire Analysis - Benefit - Web Map\" type:Web Map owner:TPCMAdmin>,\n",
       " <Item title:\"R9 SNF Tofte Landscape Project P&N - Integrated Wildfire Analysis - Benefit - Web Map App\" type:Web Mapping Application owner:TPCMAdmin>,\n",
       " <Item title:\"R9 SNF Tofte Landscape Project P&N - Integrated Wildfire Analysis - Benefit - Web Map App\" type:Code Attachment owner:TPCMAdmin>,\n",
       " <Item title:\"R9 SNF Tofte Landscape Project P&N - Young Forest 2018 All Upland FTs web map\" type:Web Map owner:TPCMAdmin>,\n",
       " <Item title:\"R9 SNF Tofte Landscape Project P&N - Young Forest 2018 All Upland FTs web map app\" type:Code Attachment owner:TPCMAdmin>,\n",
       " <Item title:\"R9 SNF Tofte Landscape Project P&N - Young Forest 2018 All Upland FTs web map app\" type:Web Mapping Application owner:TPCMAdmin>,\n",
       " <Item title:\"R9 SNF Tofte Landscape Project P&N - Spatial Zones GT 10000 web map app\" type:Web Mapping Application owner:TPCMAdmin>,\n",
       " <Item title:\"R9 SNF Tofte Landscape Project P&N - Spatial Zones GT 10000 web map app\" type:Code Attachment owner:TPCMAdmin>,\n",
       " <Item title:\"R9 SNF Tofte Landscape Project P&N - Red and White Pine web map app\" type:Web Mapping Application owner:TPCMAdmin>,\n",
       " <Item title:\"R9 SNF Tofte Landscape Project P&N - Red and White Pine web map\" type:Code Attachment owner:TPCMAdmin>,\n",
       " <Item title:\"R9 SNF Tofte Landscape Project PA - Landscape Ecosystems web map\" type:Web Map owner:TPCMAdmin>,\n",
       " <Item title:\"R9 SNF Tofte Landscape Project P&N - Landscape Ecosystems web map app\" type:Web Mapping Application owner:TPCMAdmin>,\n",
       " <Item title:\"R9 SNF Tofte Landscape Project P&N - Landscape Ecosystems web map app\" type:Code Attachment owner:TPCMAdmin>,\n",
       " <Item title:\"R9_SNF_TofteLandscapeProject_AtRskStands\" type:Feature Layer Collection owner:TPCMAdmin>,\n",
       " <Item title:\"R9 SNF Tofte Landscape Project P&N - SilvAtRisk web map app\" type:Web Mapping Application owner:TPCMAdmin>,\n",
       " <Item title:\"R9 SNF Tofte Landscape Project PA - SilvAtRisk web map app\" type:Code Attachment owner:TPCMAdmin>,\n",
       " <Item title:\"R9 SNF Tofte Landscape Project P&N - Patches 2018 web map\" type:Web Map owner:TPCMAdmin>,\n",
       " <Item title:\"R9 SNF Tofte Landscape Project P&N - Patches 2024 web map\" type:Web Map owner:TPCMAdmin>,\n",
       " <Item title:\"R9 Superior NF Tofte Landscape Project  - P&amp;N Mature Patches Swipe Story Map\" type:Web Mapping Application owner:TPCMAdmin>,\n",
       " <Item title:\"R9_SNF_Layer_Lakes\" type:Feature Layer Collection owner:TPCMAdmin>,\n",
       " <Item title:\"R9_SNF_TofteLandscapeProject_RecSites\" type:Feature Layer Collection owner:TPCMAdmin>,\n",
       " <Item title:\"R9_SNF_TofteLandscapeProject_Silv_At_Risk\" type:Feature Layer Collection owner:TPCMAdmin>,\n",
       " <Item title:\"R9_SNF_TofteLancapeProject_Recreation_Trails\" type:Feature Layer Collection owner:TPCMAdmin>,\n",
       " <Item title:\"R9 SNF Tofte Landscape Project PA - Recreation Sites Landscape Filter web map\" type:Web Map owner:TPCMAdmin>,\n",
       " <Item title:\"R9_SNF_TofteLandscapeProject_EcologicalLandtypes\" type:Feature Layer Collection owner:TPCMAdmin>,\n",
       " <Item title:\"R9 SNF Tofte Landscape PA Landscape Filters\" type:Web Map owner:TPCMAdmin>,\n",
       " <Item title:\"R9_SNF_TofteLandscape_ELT_Groups_Disolved\" type:Feature Layer Collection owner:TPCMAdmin>,\n",
       " <Item title:\"R9 SNF Tofte Landscape Project P&N - Landscape Ecosystems web map\" type:Web Map owner:TPCMAdmin>,\n",
       " <Item title:\"R9 SNF Tofte Landscape Project P&N - Patches 2024 web map\" type:Web Map owner:TPCMAdmin>,\n",
       " <Item title:\"LeaveACommentBackground_50\" type:Image owner:TPCMAdmin>,\n",
       " <Item title:\"R9_SNF_TofteLandscape_Project_MNDOT_ScenicByways\" type:Feature Layer Collection owner:TPCMAdmin>]"
      ]
     },
     "execution_count": 4,
     "metadata": {},
     "output_type": "execute_result"
    }
   ],
   "source": [
    "gis.users.me.items(folder=\"R9 TEC-19-0909-001 Tofte Landscape Project Story Map\")"
   ]
  },
  {
   "cell_type": "code",
   "execution_count": 39,
   "metadata": {},
   "outputs": [],
   "source": [
    "# tofte_content = gis.users.me.items(folder=\"R9 TEC-19-0909-001 Tofte Landscape Project Story Map\")\n",
    "tofte_content = gis.users.me.items(folder=\"R9 TEC-19-0909-001 Tofte Landscape Project TPCM Components\")"
   ]
  },
  {
   "cell_type": "code",
   "execution_count": 40,
   "metadata": {},
   "outputs": [],
   "source": [
    "for item in tofte_content:\n",
    "    item.update(thumbnail=r'C:\\Users\\zneumann\\_projects\\Tofte\\Tofte_Thumbnail.jpg')"
   ]
  },
  {
   "cell_type": "code",
   "execution_count": 41,
   "metadata": {},
   "outputs": [
    {
     "data": {
      "text/html": [
       "<div class=\"item_container\" style=\"height: auto; overflow: hidden; border: 1px solid #cfcfcf; border-radius: 2px; background: #f6fafa; line-height: 1.21429em; padding: 10px;\">\n",
       "                    <div class=\"item_left\" style=\"width: 210px; float: left;\">\n",
       "                       <a href='https://usfs.maps.arcgis.com/home/item.html?id=9b1eea0f4f1147d88c160c94333646af' target='_blank'>\n",
       "                        <img src='data:image/png;base64,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' width='200' height='133' class=\"itemThumbnail\">\n",
       "                       </a>\n",
       "                    </div>\n",
       "\n",
       "                    <div class=\"item_right\"     style=\"float: none; width: auto; overflow: hidden;\">\n",
       "                        <a href='https://usfs.maps.arcgis.com/home/item.html?id=9b1eea0f4f1147d88c160c94333646af' target='_blank'><b>TPCM Solution Story Map</b>\n",
       "                        </a>\n",
       "                        <br/>Talking Points Story Map to launch Crowdsource Reporter application.<img src='https://usfs.maps.arcgis.com/home/js/jsapi/esri/css/images/item_type_icons/layers16.png' style=\"vertical-align:middle;\">Web Mapping Application by TPCMAdmin\n",
       "                        <br/>Last Modified: September 30, 2019\n",
       "                        <br/>0 comments, 69 views\n",
       "                    </div>\n",
       "                </div>\n",
       "                "
      ],
      "text/plain": [
       "<Item title:\"TPCM Solution Story Map\" type:Web Mapping Application owner:TPCMAdmin>"
      ]
     },
     "execution_count": 41,
     "metadata": {},
     "output_type": "execute_result"
    }
   ],
   "source": [
    "tofte_content[0]"
   ]
  },
  {
   "cell_type": "code",
   "execution_count": 42,
   "metadata": {},
   "outputs": [],
   "source": [
    "for item in tofte_content:\n",
    "    item.protect(enable = True)"
   ]
  },
  {
   "cell_type": "code",
   "execution_count": 28,
   "metadata": {},
   "outputs": [],
   "source": [
    "tofte_content[22].type\n",
    "tofte_maps = []\n",
    "for item in tofte_content:\n",
    "    if item.type == 'Web Map':\n",
    "        tofte_maps.append(item)"
   ]
  },
  {
   "cell_type": "code",
   "execution_count": 34,
   "metadata": {},
   "outputs": [
    {
     "data": {
      "text/plain": [
       "[[-91.55517999999846, 47.50306399999919],\n",
       " [-90.58391099999847, 47.93308299999919]]"
      ]
     },
     "execution_count": 34,
     "metadata": {},
     "output_type": "execute_result"
    }
   ],
   "source": [
    "# '-91.555180, 47.503064, -90.583911, 47.933083'\n",
    "\n",
    "tofte_maps[11].extent"
   ]
  },
  {
   "cell_type": "code",
   "execution_count": 77,
   "metadata": {},
   "outputs": [
    {
     "name": "stdout",
     "output_type": "stream",
     "text": [
      "updating map <class 'map'>\n",
      "updating map <class 'map'>\n",
      "updating map <class 'map'>\n",
      "updating map <class 'map'>\n",
      "updating map <class 'map'>\n",
      "updating map <class 'map'>\n",
      "updating map <class 'map'>\n",
      "updating map <class 'map'>\n",
      "updating map <class 'map'>\n",
      "updating map <class 'map'>\n",
      "updating map <class 'map'>\n",
      "updating map <class 'map'>\n",
      "updating map <class 'map'>\n",
      "updating map <class 'map'>\n",
      "updating map <class 'map'>\n",
      "updating map <class 'map'>\n",
      "updating map <class 'map'>\n",
      "updating map <class 'map'>\n",
      "updating map <class 'map'>\n",
      "updating map <class 'map'>\n",
      "updating map <class 'map'>\n",
      "updating map <class 'map'>\n",
      "updating map <class 'map'>\n",
      "updating map <class 'map'>\n",
      "updating map <class 'map'>\n"
     ]
    }
   ],
   "source": [
    "# update_parameters = {'extent' : '-92.064500,  47.225100, -90.036100, 48.025700'}\n",
    "update_parameters = {'extent' : '-91.55517999999846,  47.50306399999919, -90.58391099999847, 47.93308299999919'}\n",
    "for _map in tofte_maps:\n",
    "    print(\"updating map {}\".format(map))\n",
    "    _map.update(update_parameters)"
   ]
  }
 ],
 "metadata": {
  "kernelspec": {
   "display_name": "Python 3",
   "language": "python",
   "name": "python3"
  },
  "language_info": {
   "codemirror_mode": {
    "name": "ipython",
    "version": 3
   },
   "file_extension": ".py",
   "mimetype": "text/x-python",
   "name": "python",
   "nbconvert_exporter": "python",
   "pygments_lexer": "ipython3",
   "version": "3.6.8"
  }
 },
 "nbformat": 4,
 "nbformat_minor": 2
}
